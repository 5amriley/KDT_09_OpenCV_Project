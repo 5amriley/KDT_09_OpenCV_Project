{
 "cells": [
  {
   "cell_type": "code",
   "execution_count": 24,
   "id": "initial_id",
   "metadata": {
    "ExecuteTime": {
     "end_time": "2024-03-27T04:47:02.688995400Z",
     "start_time": "2024-03-27T04:47:02.092485100Z"
    },
    "collapsed": true
   },
   "outputs": [],
   "source": [
    "import pandas as pd\n",
    "import numpy as np\n",
    "import matplotlib.pyplot as plt\n",
    "import torch\n",
    "import torch.nn.functional as F\n",
    "import torch.nn as nn\n",
    "import torch.optim as optim\n",
    "from torch.utils.data import Dataset, DataLoader, random_split\n",
    "import torchmetrics.functional as metrics\n",
    "from sklearn.model_selection import train_test_split\n",
    "from torch.optim.lr_scheduler import ReduceLROnPlateau\n",
    "from torch.utils.data import WeightedRandomSampler\n",
    "from torchvision.datasets import ImageFolder\n",
    "from torchvision import transforms\n",
    "from PIL import Image\n",
    "from torchvision.models import resnet18, ResNet18_Weights\n",
    "from torch.nn.init import kaiming_normal\n",
    "from torchinfo import summary"
   ]
  },
  {
   "cell_type": "code",
   "execution_count": 25,
   "id": "5b5eced902227ff0",
   "metadata": {
    "ExecuteTime": {
     "end_time": "2024-03-27T04:03:57.768874300Z",
     "start_time": "2024-03-27T04:03:57.436148400Z"
    },
    "collapsed": false
   },
   "outputs": [],
   "source": [
    "# 이미지 사이즈 맞추고 텐서화\n",
    "preprocessing = transforms.Compose([\n",
    "    transforms.Resize((256, 256), interpolation=transforms.InterpolationMode.BILINEAR),\n",
    "    # ToTensor() -> 0~1의 값으로 정규화\n",
    "    transforms.ToTensor(),\n",
    "    transforms.Normalize(mean=[0.485, 0.456, 0.406], std=[0.229, 0.224, 0.225])\n",
    "])"
   ]
  },
  {
   "cell_type": "code",
   "execution_count": 26,
   "id": "fe7f2d3c469a784e",
   "metadata": {
    "ExecuteTime": {
     "end_time": "2024-03-27T04:03:58.329593400Z",
     "start_time": "2024-03-27T04:03:57.745050Z"
    },
    "collapsed": false
   },
   "outputs": [],
   "source": [
    "img_root = '../data/image/SMALL'\n",
    "\n",
    "dataDS = ImageFolder(root=img_root, transform=preprocessing)"
   ]
  },
  {
   "cell_type": "code",
   "execution_count": 27,
   "id": "ea8c7dd18b0ec1a5",
   "metadata": {
    "ExecuteTime": {
     "end_time": "2024-03-27T04:03:58.333937200Z",
     "start_time": "2024-03-27T04:03:58.061424Z"
    },
    "collapsed": false
   },
   "outputs": [],
   "source": [
    "dataDS.classes = [label.replace('_small', '') for label in dataDS.classes]"
   ]
  },
  {
   "cell_type": "code",
   "execution_count": 28,
   "id": "1d882e566c4b32d1",
   "metadata": {
    "ExecuteTime": {
     "end_time": "2024-03-27T04:03:58.527117500Z",
     "start_time": "2024-03-27T04:03:58.279423400Z"
    },
    "collapsed": false
   },
   "outputs": [],
   "source": [
    "dataDS.class_to_idx = {new_class: idx for idx, new_class in enumerate(dataDS.classes)}"
   ]
  },
  {
   "cell_type": "code",
   "execution_count": 29,
   "id": "a5a5fe455187f064",
   "metadata": {
    "ExecuteTime": {
     "end_time": "2024-03-27T04:06:19.774565400Z",
     "start_time": "2024-03-27T04:05:28.971795Z"
    },
    "collapsed": false
   },
   "outputs": [],
   "source": [
    "img = []\n",
    "label = []\n",
    "for image_path,la in dataDS.imgs:\n",
    "    image = Image.open(image_path)\n",
    "    image = preprocessing(image) \n",
    "    img.append(image)\n",
    "    label.append(la)"
   ]
  },
  {
   "cell_type": "code",
   "execution_count": 30,
   "id": "ec78392c89ab37c3",
   "metadata": {
    "ExecuteTime": {
     "end_time": "2024-03-27T04:06:21.899378Z",
     "start_time": "2024-03-27T04:06:19.796084Z"
    },
    "collapsed": false
   },
   "outputs": [],
   "source": [
    "x_train, x_val, y_train, y_val = train_test_split(img,label,test_size=0.1,stratify=label,random_state=4)"
   ]
  },
  {
   "cell_type": "code",
   "execution_count": 31,
   "id": "c98ea9f8b842c60",
   "metadata": {
    "ExecuteTime": {
     "end_time": "2024-03-27T04:06:21.963879Z",
     "start_time": "2024-03-27T04:06:21.910434Z"
    },
    "collapsed": false
   },
   "outputs": [],
   "source": [
    "class DLDataset(Dataset):\n",
    "    def __init__(self, x_data, y_data):\n",
    "        self.feature = x_data\n",
    "        self.target = y_data\n",
    "\n",
    "        \n",
    "    def __len__(self):\n",
    "        return len(self.feature)\n",
    "\n",
    "    def __getitem__(self, index):\n",
    "        image_tensor = self.feature[index]\n",
    "        label = self.target[index]\n",
    "        return image_tensor, label"
   ]
  },
  {
   "cell_type": "code",
   "execution_count": 32,
   "id": "c6474b202a8602bc",
   "metadata": {
    "ExecuteTime": {
     "end_time": "2024-03-27T04:06:21.967616300Z",
     "start_time": "2024-03-27T04:06:21.931149200Z"
    },
    "collapsed": false
   },
   "outputs": [],
   "source": [
    "trainDS = DLDataset(x_train,y_train)\n",
    "validDS = DLDataset(x_val,y_val)"
   ]
  },
  {
   "cell_type": "code",
   "execution_count": 33,
   "id": "caa6779aa090c8a1",
   "metadata": {
    "ExecuteTime": {
     "end_time": "2024-03-27T04:05:22.901832100Z",
     "start_time": "2024-03-27T04:05:21.928604900Z"
    },
    "collapsed": false
   },
   "outputs": [
    {
     "data": {
      "text/plain": [
       "({14: 0.04367357125031195,\n",
       "  10: 0.03493885700024956,\n",
       "  13: 0.04117793860743699,\n",
       "  19: 0.04641876715747442,\n",
       "  22: 0.03843274270027452,\n",
       "  3: 0.03419016720738707,\n",
       "  23: 0.03493885700024956,\n",
       "  8: 0.04167706513601198,\n",
       "  1: 0.04392313451459945,\n",
       "  2: 0.038682305964562014,\n",
       "  20: 0.04067881207886199,\n",
       "  15: 0.0321936610930871,\n",
       "  4: 0.044172697778886945,\n",
       "  9: 0.053406538557524336,\n",
       "  16: 0.049163963064636884,\n",
       "  18: 0.04542051410032443,\n",
       "  5: 0.031195408035937112,\n",
       "  0: 0.03344147741452458,\n",
       "  12: 0.03843274270027452,\n",
       "  11: 0.034689293735962065,\n",
       "  21: 0.03369104067881208,\n",
       "  7: 0.044172697778886945,\n",
       "  17: 0.04367357125031195,\n",
       "  24: 0.03618667332168705,\n",
       "  6: 0.04142750187172448},\n",
       " {3: 0.033632286995515695,\n",
       "  6: 0.04035874439461883,\n",
       "  11: 0.033632286995515695,\n",
       "  7: 0.04484304932735426,\n",
       "  17: 0.04484304932735426,\n",
       "  5: 0.03139013452914798,\n",
       "  13: 0.04035874439461883,\n",
       "  22: 0.03811659192825112,\n",
       "  14: 0.04484304932735426,\n",
       "  2: 0.03811659192825112,\n",
       "  23: 0.03587443946188341,\n",
       "  16: 0.04932735426008968,\n",
       "  9: 0.053811659192825115,\n",
       "  15: 0.03139013452914798,\n",
       "  4: 0.04484304932735426,\n",
       "  18: 0.04484304932735426,\n",
       "  8: 0.042600896860986545,\n",
       "  20: 0.04035874439461883,\n",
       "  19: 0.04708520179372197,\n",
       "  21: 0.033632286995515695,\n",
       "  0: 0.033632286995515695,\n",
       "  10: 0.033632286995515695,\n",
       "  1: 0.04484304932735426,\n",
       "  24: 0.03587443946188341,\n",
       "  12: 0.03811659192825112})"
      ]
     },
     "execution_count": 33,
     "metadata": {},
     "output_type": "execute_result"
    }
   ],
   "source": [
    "from collections import Counter # 요소의 개수 반환 : dict\n",
    "\n",
    "# 클래스별 비율 계산\n",
    "train_class = {label: count / len(trainDS) for label, count in Counter([label for _, label in trainDS]).items()}\n",
    "valid_class = {label: count / len(validDS) for label, count in Counter([label for _, label in validDS]).items()}\n",
    "\n",
    "\n",
    "train_class, valid_class "
   ]
  },
  {
   "cell_type": "code",
   "execution_count": 34,
   "id": "625fcbbd55cff299",
   "metadata": {
    "ExecuteTime": {
     "end_time": "2024-03-27T04:21:51.550785800Z",
     "start_time": "2024-03-27T04:21:51.296454300Z"
    },
    "collapsed": false
   },
   "outputs": [],
   "source": [
    "SAMPLER = WeightedRandomSampler(weights=[train_class[label] for _,label in trainDS], num_samples=len(trainDS), replacement=True)\n",
    "\n",
    "BATCH = 32\n",
    "# DataLoader 생성\n",
    "trainDL = DataLoader(trainDS, batch_size=BATCH, sampler=SAMPLER)\n",
    "validDL = DataLoader(validDS, batch_size=BATCH)"
   ]
  },
  {
   "cell_type": "code",
   "execution_count": 35,
   "id": "9e4c19d3504bf68b",
   "metadata": {
    "ExecuteTime": {
     "end_time": "2024-03-27T04:21:57.460027800Z",
     "start_time": "2024-03-27T04:21:57.372110Z"
    },
    "collapsed": false
   },
   "outputs": [],
   "source": [
    "if torch.cuda.is_available():\n",
    "    DEVICE = torch.device('cuda')\n",
    "else:\n",
    "    DEVICE = torch.device('cpu')\n",
    "\n",
    "EPOCHS = 1000\n",
    "\n",
    "LF = nn.CrossEntropyLoss()"
   ]
  },
  {
   "cell_type": "code",
   "execution_count": 36,
   "id": "65b9248c1fc47710",
   "metadata": {
    "ExecuteTime": {
     "end_time": "2024-03-27T04:22:10.386153500Z",
     "start_time": "2024-03-27T04:22:08.508785500Z"
    },
    "collapsed": false
   },
   "outputs": [],
   "source": [
    "model = resnet18(weights = ResNet18_Weights.IMAGENET1K_V1)\n",
    "\n",
    "# 전결합층 변경\n",
    "# in_features : FeatureMap에서 받은 피쳐수, out_features : 출력/분류 클래스 수\n",
    "model.fc = nn.Linear(in_features=512, out_features=len(dataDS.classes))"
   ]
  },
  {
   "cell_type": "code",
   "execution_count": 37,
   "id": "f08928220d01da31",
   "metadata": {
    "ExecuteTime": {
     "end_time": "2024-03-27T04:22:10.650171Z",
     "start_time": "2024-03-27T04:22:10.371918300Z"
    },
    "collapsed": false
   },
   "outputs": [],
   "source": [
    "# Resnet18 Feature Module 파라미터 requires_grad = True => False 비활성화\n",
    "for name, param in model.named_parameters():\n",
    "    param.requires_grad = False\n",
    "\n",
    "# Resnet18 Full Connected Module 파라미터 requires_grad = False => True 활성화\n",
    "for name, param in model.fc.named_parameters():\n",
    "    param.requires_grad = True"
   ]
  },
  {
   "cell_type": "code",
   "execution_count": 38,
   "id": "5f68e2c48424b7cf",
   "metadata": {
    "ExecuteTime": {
     "end_time": "2024-03-27T04:22:12.558089400Z",
     "start_time": "2024-03-27T04:22:10.645346700Z"
    },
    "collapsed": false
   },
   "outputs": [],
   "source": [
    "rOPTIMIZER = torch.optim.Adam(model.fc.parameters(), lr = 0.001)\n",
    "\n",
    "rSCHEDULER = ReduceLROnPlateau(rOPTIMIZER, mode = 'min', patience = 3)"
   ]
  },
  {
   "cell_type": "code",
   "execution_count": 39,
   "id": "93a67a0e176b20f8",
   "metadata": {
    "ExecuteTime": {
     "start_time": "2024-03-27T04:22:10.893984800Z"
    },
    "collapsed": false,
    "is_executing": true
   },
   "outputs": [
    {
     "name": "stdout",
     "output_type": "stream",
     "text": [
      "[EPOCH: 1]\n",
      "Train Loss : 1.7676, \tTrain Accuracy : 0.55 \n",
      "Test Loss : 1.0061, \t Test Accuracy : 0.73 \n",
      "[EPOCH: 2]\n",
      "Train Loss : 0.8512, \tTrain Accuracy : 0.78 \n",
      "Test Loss : 0.7269, \t Test Accuracy : 0.77 \n",
      "[EPOCH: 3]\n",
      "Train Loss : 0.6643, \tTrain Accuracy : 0.82 \n",
      "Test Loss : 0.6259, \t Test Accuracy : 0.78 \n",
      "[EPOCH: 4]\n",
      "Train Loss : 0.5667, \tTrain Accuracy : 0.84 \n",
      "Test Loss : 0.5879, \t Test Accuracy : 0.79 \n",
      "[EPOCH: 5]\n",
      "Train Loss : 0.5098, \tTrain Accuracy : 0.84 \n",
      "Test Loss : 0.5675, \t Test Accuracy : 0.79 \n",
      "[EPOCH: 6]\n",
      "Train Loss : 0.4551, \tTrain Accuracy : 0.87 \n",
      "Test Loss : 0.5298, \t Test Accuracy : 0.81 \n",
      "[EPOCH: 7]\n",
      "Train Loss : 0.4380, \tTrain Accuracy : 0.87 \n",
      "Test Loss : 0.5251, \t Test Accuracy : 0.82 \n",
      "[EPOCH: 8]\n",
      "Train Loss : 0.4224, \tTrain Accuracy : 0.88 \n",
      "Test Loss : 0.5251, \t Test Accuracy : 0.81 \n",
      "[EPOCH: 9]\n",
      "Train Loss : 0.4069, \tTrain Accuracy : 0.88 \n",
      "Test Loss : 0.5067, \t Test Accuracy : 0.84 \n",
      "[EPOCH: 10]\n",
      "Train Loss : 0.3686, \tTrain Accuracy : 0.88 \n",
      "Test Loss : 0.4802, \t Test Accuracy : 0.83 \n",
      "[EPOCH: 11]\n",
      "Train Loss : 0.3733, \tTrain Accuracy : 0.89 \n",
      "Test Loss : 0.5165, \t Test Accuracy : 0.81 \n",
      "[EPOCH: 12]\n",
      "Train Loss : 0.3351, \tTrain Accuracy : 0.90 \n",
      "Test Loss : 0.5094, \t Test Accuracy : 0.81 \n",
      "[EPOCH: 13]\n",
      "Train Loss : 0.3221, \tTrain Accuracy : 0.90 \n",
      "Test Loss : 0.4999, \t Test Accuracy : 0.81 \n",
      "조기 종료 at epoch 13\n"
     ]
    }
   ],
   "source": [
    "r_train_report = [[],[]]\n",
    "r_val_report = [[],[]]\n",
    "minLoss = 100\n",
    "for epoch in range(1,EPOCHS+1):\n",
    "    print(f'[EPOCH: {epoch}]')\n",
    "    \n",
    "    model.train()\n",
    "    tlossList = []\n",
    "    taccList = []\n",
    "\n",
    "    for (img,label) in trainDL:\n",
    "        img = img.to(DEVICE)\n",
    "        rOPTIMIZER.zero_grad()\n",
    "        output = model(img)\n",
    "        loss = LF(output, label)\n",
    "        loss.backward()\n",
    "        rOPTIMIZER.step()\n",
    "        f1 = metrics.f1_score(output, label,task='multiclass', num_classes= len(dataDS.classes) )\n",
    "        tlossList.append(loss.item())\n",
    "        taccList.append(f1)\n",
    "    train_loss = sum(tlossList)/len(tlossList)\n",
    "    train_acc = sum(taccList)/len(taccList)\n",
    "    print(f\"Train Loss : {train_loss:.4f}, \\tTrain Accuracy : {train_acc:.2f} \")\n",
    "        \n",
    "    model.eval()\n",
    "    \n",
    "    vlossList = []\n",
    "    vaccList = []\n",
    "    \n",
    "    with torch.no_grad():\n",
    "        for (img,label) in validDL:\n",
    "            img = img.to(DEVICE)\n",
    "            label = label.to(DEVICE)\n",
    "            output = model(img)\n",
    "            loss = LF(output, label)\n",
    "            vlossList.append(loss.item())\n",
    "            _, preds = torch.max(output, 1)\n",
    "            f1 = metrics.f1_score(label, preds,task = 'multiclass', num_classes=len(dataDS.classes)) \n",
    "            vaccList.append(f1)\n",
    "        valid_loss = sum(vlossList)/len(vlossList)\n",
    "        valid_acc = sum(vaccList)/len(vaccList)\n",
    "        print(f\"Test Loss : {valid_loss:.4f}, \\t Test Accuracy : {valid_acc:.2f} \")\n",
    "        \n",
    "    r_train_report[0].append(train_loss)\n",
    "    r_train_report[1].append(train_acc)\n",
    "    r_val_report[0].append(valid_loss)\n",
    "    r_val_report[1].append(valid_acc)\n",
    "    \n",
    "    rSCHEDULER.step(valid_loss)\n",
    "    \n",
    "    if valid_loss < minLoss:\n",
    "        minLoss = valid_loss\n",
    "        torch.save(model.state_dict(), 'model/res_smallDogModel.pth')\n",
    "        \n",
    "    if rSCHEDULER.num_bad_epochs >= rSCHEDULER.patience:\n",
    "        print(f'조기 종료 at epoch {epoch}')\n",
    "        break"
   ]
  },
  {
   "cell_type": "code",
   "execution_count": 41,
   "id": "ac15e11154af4e48",
   "metadata": {
    "collapsed": false,
    "is_executing": true
   },
   "outputs": [
    {
     "data": {
      "image/png": "[encoded data removed]",
      "text/plain": [
       "<Figure size 640x480 with 2 Axes>"
      ]
     },
     "metadata": {},
     "output_type": "display_data"
    }
   ],
   "source": [
    "fig, ax1 = plt.subplots()  \n",
    "\n",
    "\n",
    "ax1.plot(r_train_report[0], label='Train Loss', color='red')\n",
    "ax1.plot(r_val_report[0], label='Validation Loss', color='orange')\n",
    "ax1.set_ylabel('Loss')\n",
    "ax1.set_xlabel('Epoch')\n",
    "ax1.tick_params(axis='y')\n",
    "ax1.legend(loc='upper left')\n",
    "\n",
    "ax2 = ax1.twinx()\n",
    "ax2.plot(r_train_report[1], label='Train F1_Score', color='blue')\n",
    "ax2.plot(r_val_report[1], label='Validation F1_Score', color='green')\n",
    "ax2.set_ylabel('F1_Score')\n",
    "ax2.set_xlabel('Epoch')\n",
    "ax2.tick_params(axis='y')\n",
    "ax2.legend(loc='upper right')\n",
    "\n",
    "plt.xlabel('Epoch')  \n",
    "plt.title('Train & Validation Scores')\n",
    "plt.show()"
   ]
  },
  {
   "cell_type": "code",
   "execution_count": null,
   "id": "a85c4debec46d4e4",
   "metadata": {
    "ExecuteTime": {
     "start_time": "2024-03-27T04:05:25.519869500Z"
    },
    "collapsed": false
   },
   "outputs": [],
   "source": []
  }
 ],
 "metadata": {
  "kernelspec": {
   "display_name": "Python 3",
   "language": "python",
   "name": "python3"
  },
  "language_info": {
   "codemirror_mode": {
    "name": "ipython",
    "version": 3
   },
   "file_extension": ".py",
   "mimetype": "text/x-python",
   "name": "python",
   "nbconvert_exporter": "python",
   "pygments_lexer": "ipython3",
   "version": "3.8.19"
  }
 },
 "nbformat": 4,
 "nbformat_minor": 5
}
