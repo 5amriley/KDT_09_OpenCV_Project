{
 "cells": [
  {
   "cell_type": "code",
   "execution_count": 1,
   "id": "d4752a20bfe6a398",
   "metadata": {
    "collapsed": false,
    "ExecuteTime": {
     "end_time": "2024-03-27T03:18:07.481917900Z",
     "start_time": "2024-03-27T03:18:04.621956800Z"
    }
   },
   "outputs": [
    {
     "name": "stdout",
     "output_type": "stream",
     "text": [
      "C:\\Users\\kdp\\KDT-5\\KDT-5_OpneCVProject\\PHJ\n"
     ]
    }
   ],
   "source": [
    "import os, sys\n",
    "from rembg import remove\n",
    "from PIL import Image\n",
    "\n",
    "print(os.getcwd())\n",
    "\n",
    "\n",
    "def img_rembg(img_path, modified_path):\n",
    "    files = os.listdir(img_path)  # 파일명 리스트 (list)\n",
    "\n",
    "    if not os.path.exists(modified_path):\n",
    "        os.makedirs(modified_path)  # resize 이미지가 저장될 폴더가 없을 경우 생성\n",
    "\n",
    "    for file in files:\n",
    "        img = Image.open(img_path + '/' + file)  # <class 'PIL.JpegImagePlugin.JpegImageFile'>\n",
    "        img = img.convert('RGBA')\n",
    "        img = remove(img)\n",
    "        img.save(modified_path + '/' + file.replace('jpg', 'png'))"
   ]
  },
  {
   "cell_type": "code",
   "outputs": [],
   "source": [
    "original_path = './data/img'\n",
    "modified_path = './data/nukki_img'\n",
    "for folder in os.listdir(original_path):\n",
    "    \n",
    "    img_rembg(original_path + '/' + folder, modified_path + '/' + folder)"
   ],
   "metadata": {
    "collapsed": true,
    "is_executing": true,
    "ExecuteTime": {
     "start_time": "2024-03-27T03:19:54.121416300Z"
    }
   },
   "id": "initial_id",
   "execution_count": null
  },
  {
   "cell_type": "code",
   "outputs": [],
   "source": [],
   "metadata": {
    "collapsed": false
   },
   "id": "d2410979aff02afc"
  }
 ],
 "metadata": {
  "kernelspec": {
   "display_name": "Python 3",
   "language": "python",
   "name": "python3"
  },
  "language_info": {
   "codemirror_mode": {
    "name": "ipython",
    "version": 2
   },
   "file_extension": ".py",
   "mimetype": "text/x-python",
   "name": "python",
   "nbconvert_exporter": "python",
   "pygments_lexer": "ipython2",
   "version": "2.7.6"
  }
 },
 "nbformat": 4,
 "nbformat_minor": 5
}
